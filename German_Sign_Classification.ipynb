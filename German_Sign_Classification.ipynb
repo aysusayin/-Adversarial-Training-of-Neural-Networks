{
  "nbformat": 4,
  "nbformat_minor": 0,
  "metadata": {
    "kernelspec": {
      "display_name": "Python 3",
      "language": "python",
      "name": "python3"
    },
    "language_info": {
      "codemirror_mode": {
        "name": "ipython",
        "version": 3
      },
      "file_extension": ".py",
      "mimetype": "text/x-python",
      "name": "python",
      "nbconvert_exporter": "python",
      "pygments_lexer": "ipython3",
      "version": "3.6.8"
    },
    "colab": {
      "name": "German Sign Classification.ipynb",
      "provenance": []
    }
  },
  "cells": [
    {
      "cell_type": "code",
      "metadata": {
        "id": "VFbD8hPLVsju",
        "colab_type": "code",
        "colab": {}
      },
      "source": [
        "from keras.layers import Input, Dense, Conv2D, Dropout, MaxPooling2D, BatchNormalization, Flatten\n",
        "from keras.models import Model, Sequential\n",
        "from keras.models import load_model\n",
        "from sklearn.preprocessing import StandardScaler\n",
        "from sklearn import preprocessing\n",
        "from keras import backend as K\n",
        "from keras.callbacks import EarlyStopping\n",
        "import numpy as np\n",
        "import matplotlib.pyplot as plt\n",
        "import csv\n",
        "from PIL import Image\n",
        "import re"
      ],
      "execution_count": 0,
      "outputs": []
    },
    {
      "cell_type": "code",
      "metadata": {
        "id": "mzvPNkueVsj1",
        "colab_type": "code",
        "colab": {}
      },
      "source": [
        "def preprocessImage(image):\n",
        "    image = image.resize((32, 32), Image.NEAREST) # resize images\n",
        "    image = image.convert('L') # convert to grayscale\n",
        "    return image"
      ],
      "execution_count": 0,
      "outputs": []
    },
    {
      "cell_type": "code",
      "metadata": {
        "id": "4jo0YS-HVsj5",
        "colab_type": "code",
        "colab": {}
      },
      "source": [
        "def readTrafficSigns(rootpath):\n",
        "    images = []  # images\n",
        "    labels = []  # corresponding labels\n",
        "    # loop over all 42 classes\n",
        "    for c in range(43):\n",
        "        prefix = rootpath + '/' + format(c, '05d') + '/'  # subdirectory for class\n",
        "        gtFile = open(prefix + 'GT-' + format(c, '05d') + '.csv')  # annotations file\n",
        "        gtReader = csv.reader(gtFile, delimiter=';')  # csv parser for annotations file\n",
        "        next(gtReader)  # skip header\n",
        "        # loop over all images in current annotations file\n",
        "        for row in gtReader:\n",
        "            image = preprocessImage(Image.open(prefix + row[0]))\n",
        "            images.append(np.array(image).reshape(32, 32, 1)/255)\n",
        "            label = np.zeros(43)\n",
        "            label[int(row[7])] = 1\n",
        "            labels.append(label)\n",
        "\n",
        "        gtFile.close()\n",
        "    return np.asarray(images), np.asarray(labels)"
      ],
      "execution_count": 0,
      "outputs": []
    },
    {
      "cell_type": "code",
      "metadata": {
        "id": "jlG4xtXPVsj-",
        "colab_type": "code",
        "colab": {}
      },
      "source": [
        "def readTestTrafficSigns(rootpath, num, val):\n",
        "    images = []  # images\n",
        "    labels = []  # corresponding labels\n",
        "    gtFile = open(rootpath + '/GT-final_test.csv')  # annotations file\n",
        "    gtReader = csv.reader(gtFile, delimiter=';')  # csv parser for annotations file\n",
        "    \n",
        "    if val:\n",
        "        skip = 0\n",
        "    else:\n",
        "        skip = num\n",
        "        \n",
        "    for i in range(skip + 1):\n",
        "        next(gtReader)  # skip header\n",
        "\n",
        "    for row in gtReader:\n",
        "        if val and str(num) + \".ppm\" in row[0]:\n",
        "            break\n",
        "        image = preprocessImage(Image.open(rootpath + '/' + row[0]))\n",
        "        images.append(np.array(image).reshape(32, 32, 1)/255)\n",
        "        label = np.zeros(43)\n",
        "        label[int(row[7])] = 1\n",
        "        labels.append(label)\n",
        "\n",
        "    gtFile.close()\n",
        "    return np.asarray(images), np.asarray(labels)"
      ],
      "execution_count": 0,
      "outputs": []
    },
    {
      "cell_type": "code",
      "metadata": {
        "id": "AW547pbuVskD",
        "colab_type": "code",
        "colab": {}
      },
      "source": [
        "train_images, train_labels = readTrafficSigns(\"GTSRB_Final_Training_Images/GTSRB/Final_Training/Images\")\n",
        "val_images, val_labels = readTestTrafficSigns(\"GTSRB_Final_Test_Images/GTSRB/Final_Test/Images\", 5000, True)\n",
        "test_images, test_labels = readTestTrafficSigns(\"GTSRB_Final_Test_Images/GTSRB/Final_Test/Images\", 5001, False)"
      ],
      "execution_count": 0,
      "outputs": []
    },
    {
      "cell_type": "code",
      "metadata": {
        "id": "mfN4IoZpVskI",
        "colab_type": "code",
        "outputId": "96a6e1aa-526f-45d5-8a25-246e11c2baf8",
        "colab": {}
      },
      "source": [
        "print(train_images.shape)\n",
        "print(val_images.shape)\n",
        "print(test_images.shape)"
      ],
      "execution_count": 0,
      "outputs": [
        {
          "output_type": "stream",
          "text": [
            "(39209, 32, 32, 1)\n",
            "(5000, 32, 32, 1)\n",
            "(7629, 32, 32, 1)\n"
          ],
          "name": "stdout"
        }
      ]
    },
    {
      "cell_type": "code",
      "metadata": {
        "id": "VDN1IbUnVskP",
        "colab_type": "code",
        "outputId": "30b7b8b9-b3b3-41ba-e325-16197f8d251b",
        "colab": {}
      },
      "source": [
        "fig, axs = plt.subplots(1, 10)\n",
        "fig.set_size_inches(20, 3)\n",
        "fig.suptitle('Training Image Examples')\n",
        "for i in range(10):\n",
        "    axs[i].imshow(train_images[i*999].reshape((32,32)))\n",
        "    plt.show()"
      ],
      "execution_count": 0,
      "outputs": [
        {
          "output_type": "display_data",
          "data": {
            "image/png": "[encoded data removed]",
            "text/plain": [
              "<Figure size 1440x216 with 10 Axes>"
            ]
          },
          "metadata": {
            "tags": [],
            "needs_background": "light"
          }
        }
      ]
    },
    {
      "cell_type": "code",
      "metadata": {
        "id": "rtS7M1-NVskT",
        "colab_type": "code",
        "outputId": "998f65f4-e54d-4337-cde3-38446bedfe26",
        "colab": {}
      },
      "source": [
        "fig, axs = plt.subplots(1, 10)\n",
        "fig.set_size_inches(20, 3)\n",
        "fig.suptitle('Validation Image Examples')\n",
        "for i in range(10):\n",
        "    axs[i].imshow(val_images[i].reshape((32,32)))"
      ],
      "execution_count": 0,
      "outputs": [
        {
          "output_type": "display_data",
          "data": {
            "image/png": "[encoded data removed]",
            "text/plain": [
              "<Figure size 1440x216 with 10 Axes>"
            ]
          },
          "metadata": {
            "tags": [],
            "needs_background": "light"
          }
        }
      ]
    },
    {
      "cell_type": "code",
      "metadata": {
        "id": "BkCIE4JHVskX",
        "colab_type": "code",
        "outputId": "5430b60e-e761-4180-ba5a-0fd7c6650aea",
        "colab": {}
      },
      "source": [
        "fig, axs = plt.subplots(1, 10)\n",
        "fig.set_size_inches(20, 3)\n",
        "fig.suptitle('Test Image Examples')\n",
        "for i in range(10):\n",
        "    axs[i].imshow(test_images[i].reshape((32,32)))"
      ],
      "execution_count": 0,
      "outputs": [
        {
          "output_type": "display_data",
          "data": {
            "image/png": "[encoded data removed]",
            "text/plain": [
              "<Figure size 1440x216 with 10 Axes>"
            ]
          },
          "metadata": {
            "tags": [],
            "needs_background": "light"
          }
        }
      ]
    },
    {
      "cell_type": "code",
      "metadata": {
        "id": "-SUqsapiVska",
        "colab_type": "code",
        "colab": {}
      },
      "source": [
        "def VGGNet(): # VGGNet-16 Model: https://neurohive.io/en/popular-networks/vgg16/\n",
        "    input_img = Input(shape=(32, 32, 1))\n",
        "\n",
        "    x = Conv2D(32, (3, 3), activation='relu', padding='same')(input_img)\n",
        "    x = Conv2D(32, (3, 3), activation='relu', padding='same')(x)\n",
        "    x = MaxPooling2D((2, 2), 2)(x)\n",
        "    x = Dropout(0.3)(x)\n",
        "\n",
        "    x = Conv2D(64, (3, 3), activation='relu', padding='same')(x)\n",
        "    x = Conv2D(64, (3, 3), activation='relu', padding='same')(x)\n",
        "    x = MaxPooling2D((2, 2), 2)(x)\n",
        "    x = Dropout(0.3)(x)\n",
        "\n",
        "    x = Conv2D(128, (3, 3), activation='relu', padding='same')(x)\n",
        "    x = Conv2D(128, (3, 3), activation='relu', padding='same')(x)\n",
        "    x = MaxPooling2D((2, 2))(x)\n",
        "    x = Dropout(0.3)(x)\n",
        "\n",
        "    x = Conv2D(256, (3, 3), activation='relu', padding='same')(x)\n",
        "    x = Conv2D(256, (3, 3), activation='relu', padding='same')(x)\n",
        "    x = MaxPooling2D((2, 2))(x)\n",
        "    x = Dropout(0.3)(x)\n",
        "\n",
        "    \n",
        "    layer_flat = Flatten()(x)\n",
        "    x = Dense(128, activation='relu')(layer_flat)\n",
        "    x = Dropout(0.5)(x)\n",
        "\n",
        "    x = Dense(128, activation='relu')(x)\n",
        "    x = Dropout(0.5)(x)\n",
        "    \n",
        "    layer_out = Dense(43, activation='softmax')(x)\n",
        "\n",
        "    model = Model(input_img, layer_out)\n",
        "    \n",
        "    return model"
      ],
      "execution_count": 0,
      "outputs": []
    },
    {
      "cell_type": "code",
      "metadata": {
        "id": "022qVTRZVske",
        "colab_type": "code",
        "colab": {}
      },
      "source": [
        "def LeNet(): #LeNet-5 Model: https://engmrk.com/lenet-5-a-classic-cnn-architecture/\n",
        "    input_img = Input(shape=(32, 32, 1))\n",
        "\n",
        "    x = Conv2D(1, (5, 5), activation='relu')(input_img)\n",
        "    x = MaxPooling2D((2, 2))(x)\n",
        "\n",
        "    x = Conv2D(6, (5, 5), activation='relu')(x)\n",
        "    x = MaxPooling2D((2, 2))(x)\n",
        "\n",
        "    layer_flat = Flatten()(x)\n",
        "\n",
        "    x = Dense(120, activation='relu')(layer_flat)\n",
        "\n",
        "    x = Dense(84, activation='relu')(x)\n",
        "\n",
        "    layer_out = Dense(43, activation='softmax')(x)\n",
        "\n",
        "    model = Model(input_img, layer_out)\n",
        "    \n",
        "    return model"
      ],
      "execution_count": 0,
      "outputs": []
    },
    {
      "cell_type": "markdown",
      "metadata": {
        "id": "zFV4rTpFVski",
        "colab_type": "text"
      },
      "source": [
        "More info about models: [CNN Architectures: LeNet, AlexNet, VGG, GoogLeNet, ResNet and more…](https://medium.com/analytics-vidhya/cnns-architectures-lenet-alexnet-vgg-googlenet-resnet-and-more-666091488df5)"
      ]
    },
    {
      "cell_type": "code",
      "metadata": {
        "id": "Ejm8R3v8Vskj",
        "colab_type": "code",
        "colab": {}
      },
      "source": [
        "def TrainModel(model, modelName, train_images, train_labels, val_images, val_labels,\n",
        "               epochs=30, batch_size=64, disable_early_stopping=False):\n",
        "    model.compile(optimizer='adam', loss='categorical_crossentropy')\n",
        "    \n",
        "    if disable_early_stopping:\n",
        "        callbacks=[]\n",
        "    else:\n",
        "        callbacks=[EarlyStopping(monitor='val_loss', patience=5)]\n",
        "    \n",
        "    model_train = model.fit(train_images, train_labels,\n",
        "                            batch_size=batch_size,\n",
        "                            epochs=epochs,\n",
        "                            validation_data=(val_images, val_labels),\n",
        "                            shuffle=True,\n",
        "                            callbacks=callbacks)\n",
        "\n",
        "    model.save('models/' + modelName + '.h5')\n",
        "    K.clear_session()\n",
        "    loss = model_train.history['loss']\n",
        "    val_loss = model_train.history['val_loss']\n",
        "    plt.figure()\n",
        "    plt.plot(val_loss, 'r', label='Val loss')\n",
        "    plt.plot(loss, 'bo', label='Training loss')\n",
        "    plt.title('Training and validation loss')\n",
        "    plt.legend()\n",
        "    plt.savefig('training_and_valid_loss_' + modelName + '.png')\n",
        "    plt.show()"
      ],
      "execution_count": 0,
      "outputs": []
    },
    {
      "cell_type": "code",
      "metadata": {
        "id": "z3MheUGmVskn",
        "colab_type": "code",
        "colab": {}
      },
      "source": [
        "def CalculateError(real, predicted):\n",
        "    err = 0\n",
        "    for i in range(len(predicted)):\n",
        "        if real[i] != predicted[i]:\n",
        "            err = err + 1\n",
        "    err_percent = err/len(predicted)*100\n",
        "    accuracy = 100 - err_percent\n",
        "    print('total test data: %d wrong predicted: %d' % (len(predicted), err))\n",
        "    print('error: %f' % err_percent )\n",
        "    print('accuracy: %f' % accuracy)\n",
        "    return err"
      ],
      "execution_count": 0,
      "outputs": []
    },
    {
      "cell_type": "code",
      "metadata": {
        "id": "gkadvPTWVskq",
        "colab_type": "code",
        "colab": {}
      },
      "source": [
        "def Predict(modelPath, test_images, test_labels):\n",
        "    model = load_model(modelPath)\n",
        "    predictions = model.predict(test_images)\n",
        "    pred = []\n",
        "    real = []\n",
        "    for i in range(len(predictions)):\n",
        "        pred.append(np.where(predictions[i] == predictions[i].max())[0])\n",
        "        real.append(np.where(test_labels[i] == test_labels[i].max())[0])\n",
        "\n",
        "    CalculateError(real, pred)\n",
        "    return pred"
      ],
      "execution_count": 0,
      "outputs": []
    },
    {
      "cell_type": "code",
      "metadata": {
        "id": "rffiyCNDVsku",
        "colab_type": "code",
        "colab": {}
      },
      "source": [
        "def getLabel(one_hot_encoded):\n",
        "    return np.where(one_hot_encoded == one_hot_encoded.max())[0]"
      ],
      "execution_count": 0,
      "outputs": []
    },
    {
      "cell_type": "markdown",
      "metadata": {
        "id": "hqqI_vmFVskz",
        "colab_type": "text"
      },
      "source": [
        "## VGGNet Model "
      ]
    },
    {
      "cell_type": "code",
      "metadata": {
        "id": "PDHsAL0TVsk0",
        "colab_type": "code",
        "outputId": "af8cdf1b-607b-46ee-bc65-95b973c445f3",
        "colab": {}
      },
      "source": [
        "VGGNetModel = VGGNet()\n",
        "VGGNetModel.summary()"
      ],
      "execution_count": 0,
      "outputs": [
        {
          "output_type": "stream",
          "text": [
            "_________________________________________________________________\n",
            "Layer (type)                 Output Shape              Param #   \n",
            "=================================================================\n",
            "input_1 (InputLayer)         (None, 32, 32, 1)         0         \n",
            "_________________________________________________________________\n",
            "conv2d_1 (Conv2D)            (None, 32, 32, 32)        320       \n",
            "_________________________________________________________________\n",
            "conv2d_2 (Conv2D)            (None, 32, 32, 32)        9248      \n",
            "_________________________________________________________________\n",
            "max_pooling2d_1 (MaxPooling2 (None, 16, 16, 32)        0         \n",
            "_________________________________________________________________\n",
            "conv2d_3 (Conv2D)            (None, 16, 16, 64)        18496     \n",
            "_________________________________________________________________\n",
            "conv2d_4 (Conv2D)            (None, 16, 16, 64)        36928     \n",
            "_________________________________________________________________\n",
            "max_pooling2d_2 (MaxPooling2 (None, 8, 8, 64)          0         \n",
            "_________________________________________________________________\n",
            "conv2d_5 (Conv2D)            (None, 8, 8, 128)         73856     \n",
            "_________________________________________________________________\n",
            "conv2d_6 (Conv2D)            (None, 8, 8, 128)         147584    \n",
            "_________________________________________________________________\n",
            "max_pooling2d_3 (MaxPooling2 (None, 4, 4, 128)         0         \n",
            "_________________________________________________________________\n",
            "conv2d_7 (Conv2D)            (None, 4, 4, 256)         295168    \n",
            "_________________________________________________________________\n",
            "conv2d_8 (Conv2D)            (None, 4, 4, 256)         590080    \n",
            "_________________________________________________________________\n",
            "max_pooling2d_4 (MaxPooling2 (None, 2, 2, 256)         0         \n",
            "_________________________________________________________________\n",
            "flatten_1 (Flatten)          (None, 1024)              0         \n",
            "_________________________________________________________________\n",
            "dense_1 (Dense)              (None, 128)               131200    \n",
            "_________________________________________________________________\n",
            "dense_2 (Dense)              (None, 128)               16512     \n",
            "_________________________________________________________________\n",
            "dense_3 (Dense)              (None, 43)                5547      \n",
            "=================================================================\n",
            "Total params: 1,324,939\n",
            "Trainable params: 1,324,939\n",
            "Non-trainable params: 0\n",
            "_________________________________________________________________\n"
          ],
          "name": "stdout"
        }
      ]
    },
    {
      "cell_type": "code",
      "metadata": {
        "id": "bFo-aaUOVsk4",
        "colab_type": "code",
        "outputId": "0e997889-4899-43df-a09c-d31d2671785f",
        "colab": {}
      },
      "source": [
        "TrainModel(VGGNetModel, \"vggnet\", train_images, train_labels, val_images, val_labels)"
      ],
      "execution_count": 0,
      "outputs": [
        {
          "output_type": "stream",
          "text": [
            "Train on 39209 samples, validate on 5000 samples\n",
            "Epoch 1/30\n",
            "39209/39209 [==============================] - 65s 2ms/step - loss: 1.9082 - val_loss: 0.5685\n",
            "Epoch 2/30\n",
            "39209/39209 [==============================] - 65s 2ms/step - loss: 0.2050 - val_loss: 0.3220\n",
            "Epoch 3/30\n",
            "39209/39209 [==============================] - 74s 2ms/step - loss: 0.0800 - val_loss: 0.2999\n",
            "Epoch 4/30\n",
            "39209/39209 [==============================] - 66s 2ms/step - loss: 0.0556 - val_loss: 0.3043\n",
            "Epoch 5/30\n",
            "39209/39209 [==============================] - 67s 2ms/step - loss: 0.0416 - val_loss: 0.3407\n",
            "Epoch 6/30\n",
            "39209/39209 [==============================] - 82s 2ms/step - loss: 0.0443 - val_loss: 0.2796\n",
            "Epoch 7/30\n",
            "39209/39209 [==============================] - 75s 2ms/step - loss: 0.0343 - val_loss: 0.2068\n",
            "Epoch 8/30\n",
            "39209/39209 [==============================] - 69s 2ms/step - loss: 0.0278 - val_loss: 0.2275\n",
            "Epoch 9/30\n",
            "39209/39209 [==============================] - 86s 2ms/step - loss: 0.0267 - val_loss: 0.3896\n",
            "Epoch 10/30\n",
            "39209/39209 [==============================] - 74s 2ms/step - loss: 0.0296 - val_loss: 0.2287\n",
            "Epoch 11/30\n",
            "39209/39209 [==============================] - 87s 2ms/step - loss: 0.0274 - val_loss: 0.1956\n",
            "Epoch 12/30\n",
            "39209/39209 [==============================] - 81s 2ms/step - loss: 0.0177 - val_loss: 0.1768\n",
            "Epoch 13/30\n",
            "39209/39209 [==============================] - 80s 2ms/step - loss: 0.0322 - val_loss: 0.2743\n",
            "Epoch 14/30\n",
            "39209/39209 [==============================] - 78s 2ms/step - loss: 0.0284 - val_loss: 0.2300\n",
            "Epoch 15/30\n",
            "39209/39209 [==============================] - 66s 2ms/step - loss: 0.0139 - val_loss: 0.3360\n",
            "Epoch 16/30\n",
            "39209/39209 [==============================] - 78s 2ms/step - loss: 0.0353 - val_loss: 0.2153\n",
            "Epoch 17/30\n",
            "39209/39209 [==============================] - 68s 2ms/step - loss: 0.0195 - val_loss: 0.2039\n"
          ],
          "name": "stdout"
        },
        {
          "output_type": "display_data",
          "data": {
            "image/png": "[encoded data removed]",
            "text/plain": [
              "<Figure size 432x288 with 1 Axes>"
            ]
          },
          "metadata": {
            "tags": [],
            "needs_background": "light"
          }
        }
      ]
    },
    {
      "cell_type": "code",
      "metadata": {
        "id": "BEej2_D1Vsk7",
        "colab_type": "code",
        "outputId": "a9e33a9f-a0f2-4343-c558-8b2915ca355f",
        "colab": {}
      },
      "source": [
        "K.clear_session()\n",
        "p = Predict(\"models/vggnet.h5\", test_images, test_labels)"
      ],
      "execution_count": 0,
      "outputs": [
        {
          "output_type": "stream",
          "text": [
            "total test data: 7629 wrong predicted: 326\n",
            "error: 4.273168\n",
            "accuracy: 95.726832\n"
          ],
          "name": "stdout"
        }
      ]
    },
    {
      "cell_type": "code",
      "metadata": {
        "id": "CgS5SNjHVsk_",
        "colab_type": "code",
        "outputId": "30d011cc-aa79-4755-b473-ce370c1209cd",
        "colab": {}
      },
      "source": [
        "p = Predict(\"models/vggnet.h5\", train_images, train_labels)"
      ],
      "execution_count": 0,
      "outputs": [
        {
          "output_type": "stream",
          "text": [
            "total test data: 39209 wrong predicted: 57\n",
            "error: 0.145375\n",
            "accuracy: 99.854625\n"
          ],
          "name": "stdout"
        }
      ]
    },
    {
      "cell_type": "code",
      "metadata": {
        "id": "JDTLH0kwVslD",
        "colab_type": "code",
        "outputId": "6d4b59b1-6b57-497d-8cf5-50429dee04c2",
        "colab": {
          "base_uri": "https://localhost:8080/",
          "height": 183
        }
      },
      "source": [
        "p = Predict(\"models/vggnet.h5\", val_i0.01mages, val_labels)"
      ],
      "execution_count": 0,
      "outputs": [
        {
          "output_type": "error",
          "ename": "NameError",
          "evalue": "ignored",
          "traceback": [
            "\u001b[0;31m---------------------------------------------------------------------------\u001b[0m",
            "\u001b[0;31mNameError\u001b[0m                                 Traceback (most recent call last)",
            "\u001b[0;32m<ipython-input-1-f61c1d907b4c>\u001b[0m in \u001b[0;36m<module>\u001b[0;34m()\u001b[0m\n\u001b[0;32m----> 1\u001b[0;31m \u001b[0mp\u001b[0m \u001b[0;34m=\u001b[0m \u001b[0mPredict\u001b[0m\u001b[0;34m(\u001b[0m\u001b[0;34m\"models/vggnet.h5\"\u001b[0m\u001b[0;34m,\u001b[0m \u001b[0mval_images\u001b[0m\u001b[0;34m,\u001b[0m \u001b[0mval_labels\u001b[0m\u001b[0;34m)\u001b[0m\u001b[0;34m\u001b[0m\u001b[0;34m\u001b[0m\u001b[0m\n\u001b[0m",
            "\u001b[0;31mNameError\u001b[0m: name 'Predict' is not defined"
          ]
        }
      ]
    },
    {
      "cell_type": "markdown",
      "metadata": {
        "id": "DAVefBy_VslJ",
        "colab_type": "text"
      },
      "source": [
        "## LeNet-5 Model "
      ]
    },
    {
      "cell_type": "code",
      "metadata": {
        "id": "C5me1HSeVslK",
        "colab_type": "code",
        "outputId": "f6958f19-df56-4d30-f494-ae243ba7974e",
        "colab": {}
      },
      "source": [
        "LeNetModel = LeNet()\n",
        "LeNetModel.summary()"
      ],
      "execution_count": 0,
      "outputs": [
        {
          "output_type": "stream",
          "text": [
            "_________________________________________________________________\n",
            "Layer (type)                 Output Shape              Param #   \n",
            "=================================================================\n",
            "input_1 (InputLayer)         (None, 32, 32, 1)         0         \n",
            "_________________________________________________________________\n",
            "conv2d_1 (Conv2D)            (None, 28, 28, 1)         26        \n",
            "_________________________________________________________________\n",
            "max_pooling2d_1 (MaxPooling2 (None, 14, 14, 1)         0         \n",
            "_________________________________________________________________\n",
            "conv2d_2 (Conv2D)            (None, 10, 10, 6)         156       \n",
            "_________________________________________________________________\n",
            "max_pooling2d_2 (MaxPooling2 (None, 5, 5, 6)           0         \n",
            "_________________________________________________________________\n",
            "flatten_1 (Flatten)          (None, 150)               0         \n",
            "_________________________________________________________________\n",
            "dense_1 (Dense)              (None, 120)               18120     \n",
            "_________________________________________________________________\n",
            "dense_2 (Dense)              (None, 84)                10164     \n",
            "_________________________________________________________________\n",
            "dense_3 (Dense)              (None, 43)                3655      \n",
            "=================================================================\n",
            "Total params: 32,121\n",
            "Trainable params: 32,121\n",
            "Non-trainable params: 0\n",
            "_________________________________________________________________\n"
          ],
          "name": "stdout"
        }
      ]
    },
    {
      "cell_type": "code",
      "metadata": {
        "id": "HV5GypwuVslP",
        "colab_type": "code",
        "outputId": "b44514cb-9764-469b-aef7-a6ec01a583ca",
        "colab": {}
      },
      "source": [
        "TrainModel(LeNetModel, \"lenet5\", train_images, train_labels, val_images, val_labels)"
      ],
      "execution_count": 0,
      "outputs": [
        {
          "output_type": "stream",
          "text": [
            "Train on 39209 samples, validate on 5000 samples\n",
            "Epoch 1/30\n",
            "39209/39209 [==============================] - 6s 151us/step - loss: 1.7384 - val_loss: 1.2122\n",
            "Epoch 2/30\n",
            "39209/39209 [==============================] - 4s 115us/step - loss: 0.7062 - val_loss: 0.9532\n",
            "Epoch 3/30\n",
            "39209/39209 [==============================] - 4s 111us/step - loss: 0.4970 - val_loss: 0.8731\n",
            "Epoch 4/30\n",
            "39209/39209 [==============================] - 5s 129us/step - loss: 0.3816 - val_loss: 0.7728\n",
            "Epoch 5/30\n",
            "39209/39209 [==============================] - 4s 107us/step - loss: 0.3043 - val_loss: 0.7217\n",
            "Epoch 6/30\n",
            "39209/39209 [==============================] - 4s 95us/step - loss: 0.2552 - val_loss: 0.7633\n",
            "Epoch 7/30\n",
            "39209/39209 [==============================] - 5s 124us/step - loss: 0.2148 - val_loss: 0.7351\n",
            "Epoch 8/30\n",
            "39209/39209 [==============================] - 3s 81us/step - loss: 0.1871 - val_loss: 0.7082\n",
            "Epoch 9/30\n",
            "39209/39209 [==============================] - 4s 112us/step - loss: 0.1665 - val_loss: 0.7307\n",
            "Epoch 10/30\n",
            "39209/39209 [==============================] - 5s 124us/step - loss: 0.1438 - val_loss: 0.7346\n",
            "Epoch 11/30\n",
            "39209/39209 [==============================] - 4s 105us/step - loss: 0.1297 - val_loss: 0.7520\n",
            "Epoch 12/30\n",
            "39209/39209 [==============================] - 4s 94us/step - loss: 0.1179 - val_loss: 0.7558\n",
            "Epoch 13/30\n",
            "39209/39209 [==============================] - 4s 93us/step - loss: 0.1060 - val_loss: 0.7813\n"
          ],
          "name": "stdout"
        },
        {
          "output_type": "display_data",
          "data": {
            "image/png": "[encoded data removed]",
            "text/plain": [
              "<Figure size 432x288 with 1 Axes>"
            ]
          },
          "metadata": {
            "tags": [],
            "needs_background": "light"
          }
        }
      ]
    },
    {
      "cell_type": "code",
      "metadata": {
        "id": "M3n7TkAkVslU",
        "colab_type": "code",
        "outputId": "a328c909-7039-4a2c-8851-ba3fb9442808",
        "colab": {}
      },
      "source": [
        "K.clear_session()\n",
        "p = Predict(\"models/lenet5.h5\", test_images, test_labels)"
      ],
      "execution_count": 0,
      "outputs": [
        {
          "output_type": "stream",
          "text": [
            "total test data: 7629 wrong predicted: 1077\n",
            "error: 14.117184\n",
            "accuracy: 85.882816\n"
          ],
          "name": "stdout"
        }
      ]
    },
    {
      "cell_type": "code",
      "metadata": {
        "id": "UwrL0rvjVslX",
        "colab_type": "code",
        "outputId": "115ae2c1-228b-4483-b18d-56f2aab081fb",
        "colab": {}
      },
      "source": [
        "p = Predict(\"models/lenet5.h5\", train_images, train_labels)"
      ],
      "execution_count": 0,
      "outputs": [
        {
          "output_type": "stream",
          "text": [
            "total test data: 39209 wrong predicted: 1149\n",
            "error: 2.930450\n",
            "accuracy: 97.069550\n"
          ],
          "name": "stdout"
        }
      ]
    },
    {
      "cell_type": "code",
      "metadata": {
        "id": "9bPPcLMMVslb",
        "colab_type": "code",
        "outputId": "79c39b75-57c4-4152-8a2b-d16ed4fecfb6",
        "colab": {}
      },
      "source": [
        "p = Predict(\"models/lenet5.h5\", val_images, val_labels)"
      ],
      "execution_count": 0,
      "outputs": [
        {
          "output_type": "stream",
          "text": [
            "total test data: 5000 wrong predicted: 689\n",
            "error: 13.780000\n",
            "accuracy: 86.220000\n"
          ],
          "name": "stdout"
        }
      ]
    },
    {
      "cell_type": "markdown",
      "metadata": {
        "id": "G0GRk1lCVsle",
        "colab_type": "text"
      },
      "source": [
        "# Adversarial Training\n",
        "\n",
        "## LeNet-5"
      ]
    },
    {
      "cell_type": "markdown",
      "metadata": {
        "id": "1nM_MqcuVslf",
        "colab_type": "text"
      },
      "source": [
        "First create the adversarial training and test sets."
      ]
    },
    {
      "cell_type": "code",
      "metadata": {
        "id": "3an8_4KTVslg",
        "colab_type": "code",
        "colab": {}
      },
      "source": [
        "def readAdversarialData(path, num, val):\n",
        "    images = []  # images\n",
        "    labels = []  # corresponding labels\n",
        "    gtFile = open(path + '/info.csv')  # annotations file\n",
        "    gtReader = csv.reader(gtFile, delimiter=',')  # csv parser for annotations file\n",
        "    \n",
        "    if val:\n",
        "        skip = 0\n",
        "    else:\n",
        "        skip = num\n",
        "        \n",
        "    for i in range(skip + 1):\n",
        "        next(gtReader)  # skip header\n",
        "\n",
        "    for row in gtReader:\n",
        "        if val and str(num) + \".jpg\" in row[0]:\n",
        "            break\n",
        "        image = preprocessImage(Image.open(path + '/' + row[0]))\n",
        "        images.append(np.array(image).reshape(32, 32, 1)/255)\n",
        "        label = np.zeros(43)\n",
        "        label_ind = int(re.search(r'\\d+', row[1]).group())\n",
        "        label[label_ind] = 1\n",
        "        labels.append(label)\n",
        "\n",
        "    gtFile.close()\n",
        "    return images, labels"
      ],
      "execution_count": 0,
      "outputs": []
    },
    {
      "cell_type": "code",
      "metadata": {
        "id": "txmmZM0OVslj",
        "colab_type": "code",
        "colab": {}
      },
      "source": [
        "adv_ep1_images, adv_ep1_labels = readAdversarialData(\"adversarial/LeNet/epsilon_1\", 1000, True) # epsilon = 0.01\n",
        "adv_ep10_images, adv_ep10_labels = readAdversarialData(\"adversarial/LeNet/epsilon_10\", 1000, True) # epsilon = 0.10\n",
        "adv_ep15_images, adv_ep15_labels = readAdversarialData(\"adversarial/LeNet/epsilon_15\", 1000, True) # epsilon = 0.15"
      ],
      "execution_count": 0,
      "outputs": []
    },
    {
      "cell_type": "code",
      "metadata": {
        "id": "7y-oF5KGVslo",
        "colab_type": "code",
        "colab": {}
      },
      "source": [
        "adv_training_images = []\n",
        "adv_training_labels = []\n",
        "adv_training_images.extend(adv_ep1_images[:500])\n",
        "adv_training_labels.extend(adv_ep1_labels[:500])\n",
        "adv_training_images.extend(adv_ep10_images[:500])\n",
        "adv_training_labels.extend(adv_ep10_labels[:500])\n",
        "adv_training_images.extend(adv_ep15_images[:500])\n",
        "adv_training_labels.extend(adv_ep15_labels[:500])"
      ],
      "execution_count": 0,
      "outputs": []
    },
    {
      "cell_type": "code",
      "metadata": {
        "id": "25ZklGjfVsls",
        "colab_type": "code",
        "outputId": "acee8a3b-109f-44b4-ccac-5a5cb4c6fb67",
        "colab": {}
      },
      "source": [
        "np.asarray(adv_training_images).shape"
      ],
      "execution_count": 0,
      "outputs": [
        {
          "output_type": "execute_result",
          "data": {
            "text/plain": [
              "(1500, 32, 32, 1)"
            ]
          },
          "metadata": {
            "tags": []
          },
          "execution_count": 33
        }
      ]
    },
    {
      "cell_type": "code",
      "metadata": {
        "id": "IQyDxjMWVslv",
        "colab_type": "code",
        "colab": {}
      },
      "source": [
        "adv_test_images = []\n",
        "adv_test_labels = []\n",
        "adv_test_images.extend(adv_ep1_images[500:])\n",
        "adv_test_labels.extend(adv_ep1_labels[500:])\n",
        "adv_test_images.extend(adv_ep10_images[500:])\n",
        "adv_test_labels.extend(adv_ep10_labels[500:])\n",
        "adv_test_images.extend(adv_ep15_images[500:])\n",
        "adv_test_labels.extend(adv_ep15_labels[500:])"
      ],
      "execution_count": 0,
      "outputs": []
    },
    {
      "cell_type": "code",
      "metadata": {
        "id": "-AFgehMVVslz",
        "colab_type": "code",
        "outputId": "4731972c-9d79-4d06-b71e-993153c5a994",
        "colab": {}
      },
      "source": [
        "np.asarray(adv_test_images).shape"
      ],
      "execution_count": 0,
      "outputs": [
        {
          "output_type": "execute_result",
          "data": {
            "text/plain": [
              "(629, 32, 32, 1)"
            ]
          },
          "metadata": {
            "tags": []
          },
          "execution_count": 35
        }
      ]
    },
    {
      "cell_type": "code",
      "metadata": {
        "id": "piSf1QWTVsl5",
        "colab_type": "code",
        "colab": {}
      },
      "source": [
        "new_training_images = []\n",
        "new_training_labels = []\n",
        "new_test_images = []\n",
        "new_test_labels = []\n",
        "\n",
        "new_training_images.extend(train_images)\n",
        "new_training_images.extend(adv_training_images)\n",
        "new_training_labels.extend(train_labels)\n",
        "new_training_labels.extend(adv_training_labels)\n",
        "\n",
        "new_test_images.extend(test_images)\n",
        "new_test_images.extend(adv_test_images)\n",
        "new_test_labels.extend(test_labels)\n",
        "new_test_labels.extend(adv_test_labels)"
      ],
      "execution_count": 0,
      "outputs": []
    },
    {
      "cell_type": "code",
      "metadata": {
        "id": "jBT5BdOZVsl8",
        "colab_type": "code",
        "outputId": "77760000-ec75-4439-91f0-67eea6d51230",
        "colab": {}
      },
      "source": [
        "np.asarray(new_training_images).shape"
      ],
      "execution_count": 0,
      "outputs": [
        {
          "output_type": "execute_result",
          "data": {
            "text/plain": [
              "(40709, 32, 32, 1)"
            ]
          },
          "metadata": {
            "tags": []
          },
          "execution_count": 40
        }
      ]
    },
    {
      "cell_type": "code",
      "metadata": {
        "id": "kSZxIqtcVsmA",
        "colab_type": "code",
        "outputId": "1798fc51-5af9-4377-842c-a26426595915",
        "colab": {}
      },
      "source": [
        "np.asarray(new_test_images).shape"
      ],
      "execution_count": 0,
      "outputs": [
        {
          "output_type": "execute_result",
          "data": {
            "text/plain": [
              "(8258, 32, 32, 1)"
            ]
          },
          "metadata": {
            "tags": []
          },
          "execution_count": 41
        }
      ]
    },
    {
      "cell_type": "markdown",
      "metadata": {
        "id": "ni2Wv_bTVsmC",
        "colab_type": "text"
      },
      "source": [
        "#### New model that will be trained with adversarial dataset. We use the same structure."
      ]
    },
    {
      "cell_type": "code",
      "metadata": {
        "id": "mX14PxgOVsmD",
        "colab_type": "code",
        "outputId": "ad3acf72-5f53-4719-b970-7762f761fc67",
        "colab": {}
      },
      "source": [
        "LeNetAdvModel = LeNet()\n",
        "TrainModel(LeNetAdvModel, \"lenet5_adv\", np.asarray(new_training_images),\n",
        "           np.asarray(new_training_labels), val_images, val_labels, epochs=20, disable_early_stopping=True)"
      ],
      "execution_count": 0,
      "outputs": [
        {
          "output_type": "stream",
          "text": [
            "Train on 40709 samples, validate on 5000 samples\n",
            "Epoch 1/20\n",
            "40709/40709 [==============================] - 6s 137us/step - loss: 1.8142 - val_loss: 1.1696\n",
            "Epoch 2/20\n",
            "40709/40709 [==============================] - 5s 116us/step - loss: 0.8149 - val_loss: 0.9385\n",
            "Epoch 3/20\n",
            "40709/40709 [==============================] - 4s 110us/step - loss: 0.6261 - val_loss: 0.7565\n",
            "Epoch 4/20\n",
            "40709/40709 [==============================] - 5s 128us/step - loss: 0.5111 - val_loss: 0.7786\n",
            "Epoch 5/20\n",
            "40709/40709 [==============================] - 6s 136us/step - loss: 0.4354 - val_loss: 0.6865\n",
            "Epoch 6/20\n",
            "40709/40709 [==============================] - 5s 116us/step - loss: 0.3687 - val_loss: 0.6807\n",
            "Epoch 7/20\n",
            "40709/40709 [==============================] - 5s 119us/step - loss: 0.3242 - val_loss: 0.6175\n",
            "Epoch 8/20\n",
            "40709/40709 [==============================] - 5s 118us/step - loss: 0.2963 - val_loss: 0.6694\n",
            "Epoch 9/20\n",
            "40709/40709 [==============================] - 5s 125us/step - loss: 0.2577 - val_loss: 0.6058\n",
            "Epoch 10/20\n",
            "40709/40709 [==============================] - 5s 113us/step - loss: 0.2342 - val_loss: 0.6386\n",
            "Epoch 11/20\n",
            "40709/40709 [==============================] - 5s 112us/step - loss: 0.2133 - val_loss: 0.6250\n",
            "Epoch 12/20\n",
            "40709/40709 [==============================] - 5s 113us/step - loss: 0.2028 - val_loss: 0.6491\n",
            "Epoch 13/20\n",
            "40709/40709 [==============================] - 5s 112us/step - loss: 0.1716 - val_loss: 0.5629\n",
            "Epoch 14/20\n",
            "40709/40709 [==============================] - 5s 112us/step - loss: 0.1574 - val_loss: 0.5746\n",
            "Epoch 15/20\n",
            "40709/40709 [==============================] - 5s 117us/step - loss: 0.1499 - val_loss: 0.6187\n",
            "Epoch 16/20\n",
            "40709/40709 [==============================] - 5s 116us/step - loss: 0.1368 - val_loss: 0.5896\n",
            "Epoch 17/20\n",
            "40709/40709 [==============================] - 5s 119us/step - loss: 0.1288 - val_loss: 0.5998\n",
            "Epoch 18/20\n",
            "40709/40709 [==============================] - 5s 115us/step - loss: 0.1228 - val_loss: 0.5724\n",
            "Epoch 19/20\n",
            "40709/40709 [==============================] - 5s 114us/step - loss: 0.1056 - val_loss: 0.7162\n",
            "Epoch 20/20\n",
            "40709/40709 [==============================] - 5s 115us/step - loss: 0.1075 - val_loss: 0.5930\n"
          ],
          "name": "stdout"
        },
        {
          "output_type": "display_data",
          "data": {
            "image/png": "[encoded data removed]",
            "text/plain": [
              "<Figure size 432x288 with 1 Axes>"
            ]
          },
          "metadata": {
            "tags": [],
            "needs_background": "light"
          }
        }
      ]
    },
    {
      "cell_type": "code",
      "metadata": {
        "id": "jFOqIXtZVsmG",
        "colab_type": "code",
        "outputId": "d55bca9b-330d-4d96-d216-5b6209f68eb2",
        "colab": {}
      },
      "source": [
        "K.clear_session()\n",
        "p = Predict(\"models/lenet5_adv.h5\", np.asarray(new_test_images), np.asarray(new_test_labels))"
      ],
      "execution_count": 0,
      "outputs": [
        {
          "output_type": "stream",
          "text": [
            "total test data: 8258 wrong predicted: 1183\n",
            "error: 14.325503\n",
            "accuracy: 85.674497\n"
          ],
          "name": "stdout"
        }
      ]
    },
    {
      "cell_type": "code",
      "metadata": {
        "id": "r6dDOoTuVsmK",
        "colab_type": "code",
        "outputId": "ef502528-8584-4b4a-ee7a-20ea7354f088",
        "colab": {}
      },
      "source": [
        "p = Predict(\"models/lenet5_adv.h5\", np.asarray(new_training_images), np.asarray(new_training_labels))"
      ],
      "execution_count": 0,
      "outputs": [
        {
          "output_type": "stream",
          "text": [
            "total test data: 40709 wrong predicted: 896\n",
            "error: 2.200987\n",
            "accuracy: 97.799013\n"
          ],
          "name": "stdout"
        }
      ]
    },
    {
      "cell_type": "markdown",
      "metadata": {
        "id": "850nj6nLVsmN",
        "colab_type": "text"
      },
      "source": [
        "#### Let's compare the accuracy of the original model and adversarial trained model."
      ]
    },
    {
      "cell_type": "code",
      "metadata": {
        "id": "FtRELMDvVsmP",
        "colab_type": "code",
        "outputId": "745c1382-0c7e-4bc9-fb67-f3de0fa89005",
        "colab": {}
      },
      "source": [
        "p_adv_original = Predict(\"models/lenet5.h5\", np.asarray(adv_test_images), np.asarray(adv_test_labels))"
      ],
      "execution_count": 0,
      "outputs": [
        {
          "output_type": "stream",
          "text": [
            "total test data: 629 wrong predicted: 514\n",
            "error: 81.717011\n",
            "accuracy: 18.282989\n"
          ],
          "name": "stdout"
        }
      ]
    },
    {
      "cell_type": "code",
      "metadata": {
        "id": "7qzZSzljVsmS",
        "colab_type": "code",
        "outputId": "7d982b5e-2d46-48c2-fa62-2b7c38732476",
        "colab": {}
      },
      "source": [
        "p_adv_trained = Predict(\"models/lenet5_adv.h5\", np.asarray(adv_test_images), np.asarray(adv_test_labels))"
      ],
      "execution_count": 0,
      "outputs": [
        {
          "output_type": "stream",
          "text": [
            "total test data: 629 wrong predicted: 249\n",
            "error: 39.586645\n",
            "accuracy: 60.413355\n"
          ],
          "name": "stdout"
        }
      ]
    },
    {
      "cell_type": "markdown",
      "metadata": {
        "id": "l55sG63-VsmW",
        "colab_type": "text"
      },
      "source": [
        "An example of wrongly predicted adversarial sample"
      ]
    },
    {
      "cell_type": "code",
      "metadata": {
        "id": "51wSmFA4VsmW",
        "colab_type": "code",
        "colab": {}
      },
      "source": [
        "def displayExampleImage(img_ind, orig_model_path, adv_model_path, adv_test_images, adv_test_labels, eps_range=[210,420]):\n",
        "    eps=0\n",
        "    if img_ind < eps_range[0]:\n",
        "        eps = 0.01\n",
        "    elif img_ind < eps_range[1]:\n",
        "        eps = 0.1\n",
        "    else:\n",
        "        eps = 0.15\n",
        "    fig = plt.figure()\n",
        "    fig.set_size_inches(20, 3)\n",
        "    fig.suptitle('Adversarial Sample - epsilon = %.2f' % eps)\n",
        "    plt.imshow(adv_test_images[img_ind].reshape((32,32)))\n",
        "    plt.show()\n",
        "\n",
        "    advModel = load_model(adv_model_path)\n",
        "    adv_pred = advModel.predict(np.asarray([adv_test_images[img_ind]]))[0]\n",
        "\n",
        "    origModel = load_model(orig_model_path)\n",
        "    orig_pred = origModel.predict(np.asarray([adv_test_images[img_ind]]))[0]\n",
        "\n",
        "    print('Real label: %d' % getLabel(adv_test_labels[img_ind]))\n",
        "    print('Predicted label by original model: %d' % getLabel(orig_pred))\n",
        "    print('Predicted label by adversarially trained model: %d' % getLabel(adv_pred))"
      ],
      "execution_count": 0,
      "outputs": []
    },
    {
      "cell_type": "code",
      "metadata": {
        "id": "CKvJdHGBVsmZ",
        "colab_type": "code",
        "outputId": "d1f0133e-c321-48cc-fde9-89b8354315bd",
        "colab": {}
      },
      "source": [
        "img_ind = 89\n",
        "displayExampleImage(img_ind, 'models/lenet5.h5', 'models/lenet5_adv.h5', adv_test_images, adv_test_labels, eps_range=[210,420])"
      ],
      "execution_count": 0,
      "outputs": [
        {
          "output_type": "display_data",
          "data": {
            "image/png": "[encoded data removed]",
            "text/plain": [
              "<Figure size 1440x216 with 1 Axes>"
            ]
          },
          "metadata": {
            "tags": [],
            "needs_background": "light"
          }
        },
        {
          "output_type": "stream",
          "text": [
            "Real label: 5\n",
            "Predicted label by original model: 3\n",
            "Predicted label by adversarially trained model: 5\n"
          ],
          "name": "stdout"
        }
      ]
    },
    {
      "cell_type": "markdown",
      "metadata": {
        "id": "jKqNcG-FVsmb",
        "colab_type": "text"
      },
      "source": [
        "## VGGNet"
      ]
    },
    {
      "cell_type": "code",
      "metadata": {
        "id": "P0_6iBYvVsme",
        "colab_type": "code",
        "colab": {}
      },
      "source": [
        "adv_ep1_images2, adv_ep1_labels2 = readAdversarialData(\"adversarial/VGGNet/epsilon_1\", 1000, True) # epsilon = 0.01\n",
        "adv_ep10_images2, adv_ep10_labels2 = readAdversarialData(\"adversarial/VGGNet/epsilon_10\", 1000, True) # epsilon = 0.10"
      ],
      "execution_count": 0,
      "outputs": []
    },
    {
      "cell_type": "code",
      "metadata": {
        "id": "uIrTwmGJVsmg",
        "colab_type": "code",
        "colab": {}
      },
      "source": [
        "adv_training_images2 = []\n",
        "adv_training_labels2 = []\n",
        "adv_training_images2.extend(adv_ep1_images2[:350])\n",
        "adv_training_labels2.extend(adv_ep1_labels2[:350])\n",
        "adv_training_images2.extend(adv_ep10_images2[:350])\n",
        "adv_training_labels2.extend(adv_ep10_labels2[:350])"
      ],
      "execution_count": 0,
      "outputs": []
    },
    {
      "cell_type": "code",
      "metadata": {
        "id": "Wa9zD5FDVsml",
        "colab_type": "code",
        "outputId": "0bc7884e-0633-4650-a906-e258d5fefca4",
        "colab": {}
      },
      "source": [
        "np.asarray(adv_training_images2).shape"
      ],
      "execution_count": 0,
      "outputs": [
        {
          "output_type": "execute_result",
          "data": {
            "text/plain": [
              "(700, 32, 32, 1)"
            ]
          },
          "metadata": {
            "tags": []
          },
          "execution_count": 72
        }
      ]
    },
    {
      "cell_type": "code",
      "metadata": {
        "id": "9vaLFtTtVsmn",
        "colab_type": "code",
        "colab": {}
      },
      "source": [
        "adv_test_images2 = []\n",
        "adv_test_labels2 = []\n",
        "adv_test_images2.extend(adv_ep1_images2[350:])\n",
        "adv_test_labels2.extend(adv_ep1_labels2[350:])\n",
        "adv_test_images2.extend(adv_ep10_images2[350:])\n",
        "adv_test_labels2.extend(adv_ep10_labels2[350:])"
      ],
      "execution_count": 0,
      "outputs": []
    },
    {
      "cell_type": "code",
      "metadata": {
        "id": "Zxnmqc_XVsmr",
        "colab_type": "code",
        "outputId": "a5fdb340-ab58-47cf-f934-0a1746aa652e",
        "colab": {}
      },
      "source": [
        "np.asarray(adv_test_images2).shape"
      ],
      "execution_count": 0,
      "outputs": [
        {
          "output_type": "execute_result",
          "data": {
            "text/plain": [
              "(303, 32, 32, 1)"
            ]
          },
          "metadata": {
            "tags": []
          },
          "execution_count": 74
        }
      ]
    },
    {
      "cell_type": "code",
      "metadata": {
        "id": "yR6oRsydVsmu",
        "colab_type": "code",
        "colab": {}
      },
      "source": [
        "new_training_images2 = []\n",
        "new_training_labels2 = []\n",
        "new_test_images2 = []\n",
        "new_test_labels2 = []\n",
        "\n",
        "new_training_images2.extend(train_images)\n",
        "new_training_images2.extend(adv_training_images2)\n",
        "new_training_labels2.extend(train_labels)\n",
        "new_training_labels2.extend(adv_training_labels2)\n",
        "\n",
        "new_test_images2.extend(test_images)\n",
        "new_test_images2.extend(adv_test_images2)\n",
        "new_test_labels2.extend(test_labels)\n",
        "new_test_labels2.extend(adv_test_labels2)"
      ],
      "execution_count": 0,
      "outputs": []
    },
    {
      "cell_type": "code",
      "metadata": {
        "id": "YvBq0MfnVsmw",
        "colab_type": "code",
        "outputId": "4e9f9f9a-1035-44c0-af42-769f2f2c0d74",
        "colab": {}
      },
      "source": [
        "np.asarray(new_training_images2).shape"
      ],
      "execution_count": 0,
      "outputs": [
        {
          "output_type": "execute_result",
          "data": {
            "text/plain": [
              "(39909, 32, 32, 1)"
            ]
          },
          "metadata": {
            "tags": []
          },
          "execution_count": 76
        }
      ]
    },
    {
      "cell_type": "code",
      "metadata": {
        "id": "gE9SE1amVsmy",
        "colab_type": "code",
        "outputId": "d28c3b3b-b414-4090-ec6f-28aa301d29f4",
        "colab": {}
      },
      "source": [
        "np.asarray(new_test_images2).shape"
      ],
      "execution_count": 0,
      "outputs": [
        {
          "output_type": "execute_result",
          "data": {
            "text/plain": [
              "(7932, 32, 32, 1)"
            ]
          },
          "metadata": {
            "tags": []
          },
          "execution_count": 77
        }
      ]
    },
    {
      "cell_type": "code",
      "metadata": {
        "scrolled": false,
        "id": "2fPNOqRUVsm2",
        "colab_type": "code",
        "outputId": "3e909a15-d61a-4ffe-dbf0-11177fe679c4",
        "colab": {}
      },
      "source": [
        "VGGNetAdvModel = VGGNet()\n",
        "TrainModel(VGGNetAdvModel, \"vggnet_adv\", np.asarray(new_training_images2),\n",
        "           np.asarray(new_training_labels2), val_images, val_labels, epochs=30, disable_early_stopping=True)"
      ],
      "execution_count": 0,
      "outputs": [
        {
          "output_type": "stream",
          "text": [
            "Train on 39909 samples, validate on 5000 samples\n",
            "Epoch 1/30\n",
            "39909/39909 [==============================] - 83s 2ms/step - loss: 3.5023 - val_loss: 2.9158\n",
            "Epoch 2/30\n",
            "39909/39909 [==============================] - 75s 2ms/step - loss: 2.0524 - val_loss: 1.1353\n",
            "Epoch 3/30\n",
            "39909/39909 [==============================] - 79s 2ms/step - loss: 1.1171 - val_loss: 0.6134\n",
            "Epoch 4/30\n",
            "39909/39909 [==============================] - 81s 2ms/step - loss: 0.6864 - val_loss: 0.4135\n",
            "Epoch 5/30\n",
            "39909/39909 [==============================] - 73s 2ms/step - loss: 0.5065 - val_loss: 0.3366\n",
            "Epoch 6/30\n",
            "39909/39909 [==============================] - 75s 2ms/step - loss: 0.4126 - val_loss: 0.2606\n",
            "Epoch 7/30\n",
            "39909/39909 [==============================] - 74s 2ms/step - loss: 0.3504 - val_loss: 0.2358\n",
            "Epoch 8/30\n",
            "39909/39909 [==============================] - 68s 2ms/step - loss: 0.2978 - val_loss: 0.2556\n",
            "Epoch 9/30\n",
            "39909/39909 [==============================] - 68s 2ms/step - loss: 0.2665 - val_loss: 0.2300\n",
            "Epoch 10/30\n",
            "39909/39909 [==============================] - 68s 2ms/step - loss: 0.2384 - val_loss: 0.1771\n",
            "Epoch 11/30\n",
            "39909/39909 [==============================] - 68s 2ms/step - loss: 0.2259 - val_loss: 0.1715\n",
            "Epoch 12/30\n",
            "39909/39909 [==============================] - 68s 2ms/step - loss: 0.2028 - val_loss: 0.1618\n",
            "Epoch 13/30\n",
            "39909/39909 [==============================] - 68s 2ms/step - loss: 0.1967 - val_loss: 0.1898\n",
            "Epoch 14/30\n",
            "39909/39909 [==============================] - 68s 2ms/step - loss: 0.1817 - val_loss: 0.1676\n",
            "Epoch 15/30\n",
            "39909/39909 [==============================] - 68s 2ms/step - loss: 0.1859 - val_loss: 0.1656\n",
            "Epoch 16/30\n",
            "39909/39909 [==============================] - 69s 2ms/step - loss: 0.1807 - val_loss: 0.1419\n",
            "Epoch 17/30\n",
            "39909/39909 [==============================] - 69s 2ms/step - loss: 0.1713 - val_loss: 0.1466\n",
            "Epoch 18/30\n",
            "39909/39909 [==============================] - 69s 2ms/step - loss: 0.1611 - val_loss: 0.1966\n",
            "Epoch 19/30\n",
            "39909/39909 [==============================] - 69s 2ms/step - loss: 0.1594 - val_loss: 0.1910\n",
            "Epoch 20/30\n",
            "39909/39909 [==============================] - 69s 2ms/step - loss: 0.1570 - val_loss: 0.1505\n",
            "Epoch 21/30\n",
            "39909/39909 [==============================] - 69s 2ms/step - loss: 0.1574 - val_loss: 0.1451\n",
            "Epoch 22/30\n",
            "39909/39909 [==============================] - 69s 2ms/step - loss: 0.1607 - val_loss: 0.1369\n",
            "Epoch 23/30\n",
            "39909/39909 [==============================] - 69s 2ms/step - loss: 0.1484 - val_loss: 0.1407\n",
            "Epoch 24/30\n",
            "39909/39909 [==============================] - 69s 2ms/step - loss: 0.1491 - val_loss: 0.1502\n",
            "Epoch 25/30\n",
            "39909/39909 [==============================] - 69s 2ms/step - loss: 0.1637 - val_loss: 0.1714\n",
            "Epoch 26/30\n",
            "39909/39909 [==============================] - 69s 2ms/step - loss: 0.1588 - val_loss: 0.1342\n",
            "Epoch 27/30\n",
            "39909/39909 [==============================] - 69s 2ms/step - loss: 0.1457 - val_loss: 0.1674\n",
            "Epoch 28/30\n",
            "39909/39909 [==============================] - 69s 2ms/step - loss: 0.1429 - val_loss: 0.1584\n",
            "Epoch 29/30\n",
            "39909/39909 [==============================] - 69s 2ms/step - loss: 0.1531 - val_loss: 0.1558\n",
            "Epoch 30/30\n",
            "39909/39909 [==============================] - 70s 2ms/step - loss: 0.1473 - val_loss: 0.1564\n"
          ],
          "name": "stdout"
        },
        {
          "output_type": "display_data",
          "data": {
            "image/png": "[encoded data removed]",
            "text/plain": [
              "<Figure size 432x288 with 1 Axes>"
            ]
          },
          "metadata": {
            "tags": [],
            "needs_background": "light"
          }
        }
      ]
    },
    {
      "cell_type": "code",
      "metadata": {
        "id": "w4NLSWyvVsm6",
        "colab_type": "code",
        "outputId": "2661a1ba-e021-46bd-bfaa-652f9ef1c0cc",
        "colab": {}
      },
      "source": [
        "K.clear_session()\n",
        "p = Predict(\"models/vggnet_adv.h5\", np.asarray(new_test_images2), np.asarray(new_test_labels2))"
      ],
      "execution_count": 0,
      "outputs": [
        {
          "output_type": "stream",
          "text": [
            "total test data: 7932 wrong predicted: 349\n",
            "error: 4.399899\n",
            "accuracy: 95.600101\n"
          ],
          "name": "stdout"
        }
      ]
    },
    {
      "cell_type": "code",
      "metadata": {
        "id": "AXizoGUPVsm8",
        "colab_type": "code",
        "outputId": "250bf7b4-62a5-41ed-d616-b318928c7b63",
        "colab": {}
      },
      "source": [
        "p = Predict(\"models/vggnet_adv.h5\", np.asarray(new_training_images2), np.asarray(new_training_labels2))"
      ],
      "execution_count": 0,
      "outputs": [
        {
          "output_type": "stream",
          "text": [
            "total test data: 39909 wrong predicted: 293\n",
            "error: 0.734170\n",
            "accuracy: 99.265830\n"
          ],
          "name": "stdout"
        }
      ]
    },
    {
      "cell_type": "markdown",
      "metadata": {
        "id": "FfsKI5f6Vsm-",
        "colab_type": "text"
      },
      "source": [
        "#### Let's compare the accuracy of the original model and adversarial trained model."
      ]
    },
    {
      "cell_type": "code",
      "metadata": {
        "id": "RGsjRmeIVsm_",
        "colab_type": "code",
        "outputId": "bfc89221-a26c-43fc-a3f6-1bb2eded4fb5",
        "colab": {}
      },
      "source": [
        "p_adv_original = Predict(\"models/vggnet.h5\", np.asarray(adv_test_images2), np.asarray(adv_test_labels2))"
      ],
      "execution_count": 0,
      "outputs": [
        {
          "output_type": "stream",
          "text": [
            "total test data: 303 wrong predicted: 139\n",
            "error: 45.874587\n",
            "accuracy: 54.125413\n"
          ],
          "name": "stdout"
        }
      ]
    },
    {
      "cell_type": "code",
      "metadata": {
        "scrolled": true,
        "id": "BAGsB1rAVsnC",
        "colab_type": "code",
        "outputId": "18ffc4be-1c1a-49b7-892b-71d185e4e488",
        "colab": {}
      },
      "source": [
        "p_adv_trained = Predict(\"models/vggnet_adv.h5\", np.asarray(adv_test_images2), np.asarray(adv_test_labels2))"
      ],
      "execution_count": 0,
      "outputs": [
        {
          "output_type": "stream",
          "text": [
            "total test data: 303 wrong predicted: 101\n",
            "error: 33.333333\n",
            "accuracy: 66.666667\n"
          ],
          "name": "stdout"
        }
      ]
    },
    {
      "cell_type": "markdown",
      "metadata": {
        "id": "pdyH6KdVVsnE",
        "colab_type": "text"
      },
      "source": [
        "An example of wrongly predicted adversarial sample for VGGNet"
      ]
    },
    {
      "cell_type": "code",
      "metadata": {
        "id": "4_jTr4XCVsnF",
        "colab_type": "code",
        "outputId": "e40aca58-65ce-4c53-d438-24defd303008",
        "colab": {}
      },
      "source": [
        "img_ind = 283 # 283\n",
        "displayExampleImage(img_ind, 'models/vggnet.h5', 'models/vggnet_adv.h5', adv_test_images2, adv_test_labels2, eps_range=[152,304])"
      ],
      "execution_count": 0,
      "outputs": [
        {
          "output_type": "display_data",
          "data": {
            "image/png": "[encoded data removed]",
            "text/plain": [
              "<Figure size 1440x216 with 1 Axes>"
            ]
          },
          "metadata": {
            "tags": [],
            "needs_background": "light"
          }
        },
        {
          "output_type": "stream",
          "text": [
            "Real label: 33\n",
            "Predicted label by original model: 14\n",
            "Predicted label by adversarially trained model: 33\n"
          ],
          "name": "stdout"
        }
      ]
    }
  ]
}